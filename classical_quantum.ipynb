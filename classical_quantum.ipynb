{
 "cells": [
  {
   "cell_type": "code",
   "execution_count": null,
   "metadata": {},
   "outputs": [],
   "source": [
    "# %pip install scikit-learn==1.0.2\n",
    "# %pip install qiskit==0.36.0\n",
    "# %pip install qiskit-machine-learning==0.3.1\n",
    "# %pip install matplotlib\n"
   ]
  },
  {
   "cell_type": "code",
   "execution_count": null,
   "metadata": {},
   "outputs": [],
   "source": [
    "\n",
    "# Import plotting library\n",
    "import matplotlib.pyplot as plt\n",
    "\n",
    "# Set global plot background color\n",
    "plt.rcParams[\"figure.facecolor\"] = \"w\"\n",
    "\n",
    "# Import for SVM classifier\n",
    "from sklearn.svm import SVC\n",
    "\n",
    "# Imports for dataset and model selection\n",
    "from sklearn import datasets\n",
    "from sklearn.model_selection import train_test_split\n",
    "from sklearn.metrics import ConfusionMatrixDisplay, confusion_matrix\n",
    "\n",
    "# Imports for QSVC classifier\n",
    "from qiskit import BasicAer\n",
    "from qiskit.circuit.library import ZZFeatureMap\n",
    "from qiskit.utils import QuantumInstance, algorithm_globals\n",
    "from qiskit_machine_learning.kernels import QuantumKernel\n",
    "\n",
    "# Set the random seed for QSVC\n",
    "seed = 12345\n",
    "algorithm_globals.random_seed = seed\n"
   ]
  },
  {
   "cell_type": "code",
   "execution_count": null,
   "metadata": {},
   "outputs": [],
   "source": [
    "# Import plotting library\n",
    "import matplotlib.pyplot as plt\n",
    "\n",
    "# Set global plot background color\n",
    "plt.rcParams[\"figure.facecolor\"] = \"w\"\n",
    "\n",
    "# Import for SVM classifier\n",
    "from sklearn.svm import SVC\n",
    "\n",
    "# Imports for dataset and model selection\n",
    "from sklearn import datasets\n",
    "from sklearn.model_selection import train_test_split\n",
    "from sklearn.metrics import ConfusionMatrixDisplay, confusion_matrix\n",
    "\n",
    "# Imports for QSVC classifier\n",
    "from qiskit import BasicAer\n",
    "from qiskit.circuit.library import ZZFeatureMap\n",
    "from qiskit.utils import QuantumInstance, algorithm_globals\n",
    "from qiskit_machine_learning.kernels import QuantumKernel\n",
    "\n",
    "# Set the random seed for QSVC\n",
    "seed = 12345\n",
    "algorithm_globals.random_seed = seed\n",
    "import covalent as ct\n"
   ]
  },
  {
   "cell_type": "code",
   "execution_count": null,
   "metadata": {},
   "outputs": [],
   "source": [
    "# Import workflow management library\n",
    "import covalent as ct\n"
   ]
  },
  {
   "cell_type": "code",
   "execution_count": null,
   "metadata": {},
   "outputs": [],
   "source": [
    "@ct.electron\n",
    "def get_data():\n",
    "    iris = datasets.load_iris()\n",
    "    X = iris.data[:, :2]  # we only take the first two features.\n",
    "    y = iris.target\n",
    "    return X, y\n",
    "\n",
    "\n",
    "@ct.electron\n",
    "def split_train_test_data(X, y):\n",
    "    X_train, X_test, y_train, y_test = train_test_split(X, y, test_size=0.25, random_state=0)\n",
    "    return X_train, X_test, y_train, y_test\n",
    "\n",
    "\n",
    "@ct.electron\n",
    "def train_svc(X_train, y_train):\n",
    "    svc = SVC(kernel=\"linear\")\n",
    "    svc.fit(X_train, y_train)\n",
    "    return svc\n",
    "\n",
    "\n",
    "@ct.electron\n",
    "def train_qsvc(X_train, y_train):\n",
    "    feature_map = ZZFeatureMap(feature_dimension=2, reps=2, entanglement=\"linear\")\n",
    "    backend = QuantumInstance(\n",
    "        BasicAer.get_backend(\"qasm_simulator\"), shots=16, seed_simulator=seed, seed_transpiler=seed\n",
    "    )\n",
    "    kernel = QuantumKernel(feature_map=feature_map, quantum_instance=backend)\n",
    "    qsvc = SVC(kernel=kernel.evaluate)\n",
    "    qsvc.fit(X_train, y_train)\n",
    "    return qsvc\n",
    "\n"
   ]
  },
  {
   "cell_type": "code",
   "execution_count": null,
   "metadata": {},
   "outputs": [],
   "source": [
    "@ct.electron\n",
    "def get_data():\n",
    "    iris = datasets.load_iris()\n",
    "    X = iris.data[:, :2]  # we only take the first two features.\n",
    "    y = iris.target\n",
    "    return X, y\n",
    "\n",
    "\n",
    "@ct.electron\n",
    "def split_train_test_data(X, y):\n",
    "    X_train, X_test, y_train, y_test = train_test_split(X, y, test_size=0.25, random_state=0)\n",
    "    return X_train, X_test, y_train, y_test\n",
    "\n",
    "\n",
    "@ct.electron\n",
    "def train_svc(X_train, y_train):\n",
    "    svc = SVC(kernel=\"linear\")\n",
    "    svc.fit(X_train, y_train)\n",
    "    return svc\n",
    "\n",
    "\n",
    "@ct.electron\n",
    "def train_qsvc(X_train, y_train):\n",
    "    feature_map = ZZFeatureMap(feature_dimension=2, reps=2, entanglement=\"linear\")\n",
    "    backend = QuantumInstance(\n",
    "        BasicAer.get_backend(\"qasm_simulator\"), shots=16, seed_simulator=seed, seed_transpiler=seed\n",
    "    )\n",
    "    kernel = QuantumKernel(feature_map=feature_map, quantum_instance=backend)\n",
    "    qsvc = SVC(kernel=kernel.evaluate)\n",
    "    qsvc.fit(X_train, y_train)\n",
    "    return qsvc\n",
    "\n"
   ]
  },
  {
   "cell_type": "code",
   "execution_count": null,
   "metadata": {},
   "outputs": [],
   "source": [
    "@ct.lattice\n",
    "def workflow():\n",
    "    X, y = get_data()\n",
    "    X_train, X_test, y_train, y_test = split_train_test_data(X=X, y=y)\n",
    "    svc_model = train_svc(X_train=X_train, y_train=y_train)\n",
    "    qsvc_model = train_qsvc(X_train=X_train, y_train=y_train)\n",
    "    return X_test, y_test, svc_model, qsvc_model\n"
   ]
  },
  {
   "cell_type": "code",
   "execution_count": null,
   "metadata": {},
   "outputs": [],
   "source": [
    "workflow.draw()"
   ]
  },
  {
   "cell_type": "code",
   "execution_count": null,
   "metadata": {},
   "outputs": [],
   "source": [
    "# from IPython import display\n",
    "# display.Image(\"/home/aravindprabaharan/Desktop/dispatches/workflow.png\")"
   ]
  },
  {
   "cell_type": "code",
   "execution_count": null,
   "metadata": {},
   "outputs": [],
   "source": [
    "dispatch_id = ct.dispatch(workflow)()\n"
   ]
  },
  {
   "cell_type": "code",
   "execution_count": null,
   "metadata": {},
   "outputs": [],
   "source": [
    "result = ct.get_result(dispatch_id=dispatch_id, wait=True)\n"
   ]
  },
  {
   "cell_type": "code",
   "execution_count": null,
   "metadata": {},
   "outputs": [],
   "source": [
    "X_test, y_test, svc_model, qsvc_model = result.result\n"
   ]
  },
  {
   "cell_type": "code",
   "execution_count": null,
   "metadata": {},
   "outputs": [],
   "source": [
    "svc_cm_plot = ConfusionMatrixDisplay.from_estimator(svc_model, X_test, y_test);\n",
    "svc_cm_plot.ax_.set_title(\"SVC confusion matrix plot\");"
   ]
  },
  {
   "cell_type": "code",
   "execution_count": null,
   "metadata": {},
   "outputs": [],
   "source": [
    "qsvc_cm_plot = ConfusionMatrixDisplay.from_estimator(qsvc_model, X_test, y_test);\n",
    "qsvc_cm_plot.ax_.set_title(\"QSVC confusion matrix plot\");\n"
   ]
  }
 ],
 "metadata": {
  "kernelspec": {
   "display_name": "Python 3.8.10 ('ui-terminal-feature': venv)",
   "language": "python",
   "name": "python3"
  },
  "language_info": {
   "codemirror_mode": {
    "name": "ipython",
    "version": 3
   },
   "file_extension": ".py",
   "mimetype": "text/x-python",
   "name": "python",
   "nbconvert_exporter": "python",
   "pygments_lexer": "ipython3",
   "version": "3.8.10"
  },
  "orig_nbformat": 4,
  "vscode": {
   "interpreter": {
    "hash": "25bf69a9abafdfd4c0997057fe6b3f90fb02b397d3fbca53a39ba3f6858dcdc1"
   }
  }
 },
 "nbformat": 4,
 "nbformat_minor": 2
}
