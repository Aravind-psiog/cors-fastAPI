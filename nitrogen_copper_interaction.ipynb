{
 "cells": [
  {
   "cell_type": "code",
   "execution_count": 5,
   "metadata": {},
   "outputs": [],
   "source": [
    "import covalent as ct\n"
   ]
  },
  {
   "cell_type": "code",
   "execution_count": 6,
   "metadata": {},
   "outputs": [
    {
     "name": "stdout",
     "output_type": "stream",
     "text": [
      "/usr/local/lib/python3.8/dist-packages/pkg_resources/__init__.py:123: PkgResourcesDeprecationWarning: 0.23ubuntu1 is an invalid version and will not be supported in a future release\n",
      "  warnings.warn(\n",
      "/usr/local/lib/python3.8/dist-packages/pkg_resources/__init__.py:123: PkgResourcesDeprecationWarning: 0.1.36ubuntu1 is an invalid version and will not be supported in a future release\n",
      "  warnings.warn(\n",
      "Requirement already satisfied: ase in /home/aravindprabaharan/.local/lib/python3.8/site-packages (3.22.1)\n",
      "Requirement already satisfied: matplotlib>=3.1.0 in /home/aravindprabaharan/.local/lib/python3.8/site-packages (from ase) (3.5.2)\n",
      "Requirement already satisfied: numpy>=1.15.0 in /home/aravindprabaharan/.local/lib/python3.8/site-packages (from ase) (1.18.5)\n",
      "Requirement already satisfied: scipy>=1.1.0 in /home/aravindprabaharan/.local/lib/python3.8/site-packages (from ase) (1.9.0)\n",
      "Requirement already satisfied: cycler>=0.10 in /home/aravindprabaharan/.local/lib/python3.8/site-packages (from matplotlib>=3.1.0->ase) (0.11.0)\n",
      "Requirement already satisfied: fonttools>=4.22.0 in /home/aravindprabaharan/.local/lib/python3.8/site-packages (from matplotlib>=3.1.0->ase) (4.34.4)\n",
      "Requirement already satisfied: kiwisolver>=1.0.1 in /home/aravindprabaharan/.local/lib/python3.8/site-packages (from matplotlib>=3.1.0->ase) (1.4.4)\n",
      "Requirement already satisfied: packaging>=20.0 in /usr/lib/python3/dist-packages (from matplotlib>=3.1.0->ase) (20.3)\n",
      "Requirement already satisfied: pillow>=6.2.0 in /usr/lib/python3/dist-packages (from matplotlib>=3.1.0->ase) (7.0.0)\n",
      "Requirement already satisfied: pyparsing>=2.2.1 in /usr/lib/python3/dist-packages (from matplotlib>=3.1.0->ase) (2.4.6)\n",
      "Requirement already satisfied: python-dateutil>=2.7 in /home/aravindprabaharan/.local/lib/python3.8/site-packages (from matplotlib>=3.1.0->ase) (2.8.2)\n",
      "Requirement already satisfied: six>=1.5 in /usr/lib/python3/dist-packages (from python-dateutil>=2.7->matplotlib>=3.1.0->ase) (1.14.0)\n",
      "/usr/local/lib/python3.8/dist-packages/pkg_resources/__init__.py:123: PkgResourcesDeprecationWarning: 0.23ubuntu1 is an invalid version and will not be supported in a future release\n",
      "  warnings.warn(\n",
      "/usr/local/lib/python3.8/dist-packages/pkg_resources/__init__.py:123: PkgResourcesDeprecationWarning: 0.1.36ubuntu1 is an invalid version and will not be supported in a future release\n",
      "  warnings.warn(\n",
      "Requirement already satisfied: ase-notebook in /home/aravindprabaharan/.local/lib/python3.8/site-packages (0.3.2)\n",
      "Requirement already satisfied: ase<4,>=3.18 in /home/aravindprabaharan/.local/lib/python3.8/site-packages (from ase-notebook) (3.22.1)\n",
      "Requirement already satisfied: attrs<20,>=19 in /home/aravindprabaharan/.local/lib/python3.8/site-packages (from ase-notebook) (19.3.0)\n",
      "Requirement already satisfied: importlib-resources<2,>=1 in /home/aravindprabaharan/.local/lib/python3.8/site-packages (from ase-notebook) (1.5.0)\n",
      "Requirement already satisfied: numpy<1.19,>=1.16.4 in /home/aravindprabaharan/.local/lib/python3.8/site-packages (from ase-notebook) (1.18.5)\n",
      "Requirement already satisfied: matplotlib<4,>=3.1 in /home/aravindprabaharan/.local/lib/python3.8/site-packages (from ase-notebook) (3.5.2)\n",
      "Requirement already satisfied: svgwrite<2,>=1.3 in /home/aravindprabaharan/.local/lib/python3.8/site-packages (from ase-notebook) (1.4.3)\n",
      "Requirement already satisfied: scipy>=1.1.0 in /home/aravindprabaharan/.local/lib/python3.8/site-packages (from ase<4,>=3.18->ase-notebook) (1.9.0)\n",
      "Requirement already satisfied: cycler>=0.10 in /home/aravindprabaharan/.local/lib/python3.8/site-packages (from matplotlib<4,>=3.1->ase-notebook) (0.11.0)\n",
      "Requirement already satisfied: fonttools>=4.22.0 in /home/aravindprabaharan/.local/lib/python3.8/site-packages (from matplotlib<4,>=3.1->ase-notebook) (4.34.4)\n",
      "Requirement already satisfied: kiwisolver>=1.0.1 in /home/aravindprabaharan/.local/lib/python3.8/site-packages (from matplotlib<4,>=3.1->ase-notebook) (1.4.4)\n",
      "Requirement already satisfied: packaging>=20.0 in /usr/lib/python3/dist-packages (from matplotlib<4,>=3.1->ase-notebook) (20.3)\n",
      "Requirement already satisfied: pillow>=6.2.0 in /usr/lib/python3/dist-packages (from matplotlib<4,>=3.1->ase-notebook) (7.0.0)\n",
      "Requirement already satisfied: pyparsing>=2.2.1 in /usr/lib/python3/dist-packages (from matplotlib<4,>=3.1->ase-notebook) (2.4.6)\n",
      "Requirement already satisfied: python-dateutil>=2.7 in /home/aravindprabaharan/.local/lib/python3.8/site-packages (from matplotlib<4,>=3.1->ase-notebook) (2.8.2)\n",
      "Requirement already satisfied: six>=1.5 in /usr/lib/python3/dist-packages (from python-dateutil>=2.7->matplotlib<4,>=3.1->ase-notebook) (1.14.0)\n"
     ]
    },
    {
     "ename": "ImportError",
     "evalue": "cannot import name 'AseView' from 'ase_notebook' (/home/aravindprabaharan/.local/lib/python3.8/site-packages/ase_notebook/__init__.py)",
     "output_type": "error",
     "traceback": [
      "\u001b[0;31m---------------------------------------------------------------------------\u001b[0m",
      "\u001b[0;31mImportError\u001b[0m                               Traceback (most recent call last)",
      "\u001b[1;32m/home/aravindprabaharan/Desktop/dispatches/nitrogen_copper_interaction.ipynb Cell 2\u001b[0m in \u001b[0;36m<cell line: 10>\u001b[0;34m()\u001b[0m\n\u001b[1;32m      <a href='vscode-notebook-cell:/home/aravindprabaharan/Desktop/dispatches/nitrogen_copper_interaction.ipynb#W1sZmlsZQ%3D%3D?line=7'>8</a>\u001b[0m \u001b[39mfrom\u001b[39;00m \u001b[39mase\u001b[39;00m\u001b[39m.\u001b[39;00m\u001b[39mio\u001b[39;00m \u001b[39mimport\u001b[39;00m read\n\u001b[1;32m      <a href='vscode-notebook-cell:/home/aravindprabaharan/Desktop/dispatches/nitrogen_copper_interaction.ipynb#W1sZmlsZQ%3D%3D?line=8'>9</a>\u001b[0m \u001b[39mfrom\u001b[39;00m \u001b[39mase\u001b[39;00m\u001b[39m.\u001b[39;00m\u001b[39mio\u001b[39;00m\u001b[39m.\u001b[39;00m\u001b[39mtrajectory\u001b[39;00m \u001b[39mimport\u001b[39;00m Trajectory\n\u001b[0;32m---> <a href='vscode-notebook-cell:/home/aravindprabaharan/Desktop/dispatches/nitrogen_copper_interaction.ipynb#W1sZmlsZQ%3D%3D?line=9'>10</a>\u001b[0m \u001b[39mfrom\u001b[39;00m \u001b[39mase_notebook\u001b[39;00m \u001b[39mimport\u001b[39;00m AseView, ViewConfig\n\u001b[1;32m     <a href='vscode-notebook-cell:/home/aravindprabaharan/Desktop/dispatches/nitrogen_copper_interaction.ipynb#W1sZmlsZQ%3D%3D?line=10'>11</a>\u001b[0m \u001b[39mfrom\u001b[39;00m \u001b[39mmatplotlib\u001b[39;00m \u001b[39mimport\u001b[39;00m pyplot \u001b[39mas\u001b[39;00m plt\n",
      "\u001b[0;31mImportError\u001b[0m: cannot import name 'AseView' from 'ase_notebook' (/home/aravindprabaharan/.local/lib/python3.8/site-packages/ase_notebook/__init__.py)"
     ]
    }
   ],
   "source": [
    "!pip install ase\n",
    "!pip install ase-notebook\n",
    "from ase import Atoms\n",
    "from ase.calculators.emt import EMT\n",
    "from ase.constraints import FixAtoms\n",
    "from ase.optimize import QuasiNewton\n",
    "from ase.build import fcc111, add_adsorbate\n",
    "from ase.io import read\n",
    "from ase.io.trajectory import Trajectory\n",
    "from ase_notebook import AseView, ViewConfig\n",
    "from matplotlib import pyplot as plt\n"
   ]
  },
  {
   "cell_type": "code",
   "execution_count": null,
   "metadata": {},
   "outputs": [],
   "source": [
    "@ct.electron\n",
    "def construct_cu_slab(\n",
    "    unit_cell=(4, 4, 2),\n",
    "    vacuum=10.0,\n",
    "):\n",
    "    slab = fcc111(\"Cu\", size=unit_cell, vacuum=vacuum)\n",
    "    return slab\n",
    "\n",
    "\n",
    "@ct.electron\n",
    "def compute_system_energy(system):\n",
    "    system.calc = EMT()\n",
    "    return system.get_potential_energy()\n",
    "\n",
    "\n",
    "@ct.electron\n",
    "def construct_n_molecule(d=0):\n",
    "    return Atoms(\"2N\", positions=[(0.0, 0.0, 0.0), (0.0, 0.0, d)])\n",
    "\n",
    "\n",
    "@ct.electron\n",
    "def get_relaxed_slab(slab, molecule, height=1.85):\n",
    "    slab.calc = EMT()\n",
    "    add_adsorbate(slab, molecule, height, \"ontop\")\n",
    "    constraint = FixAtoms(mask=[a.symbol != \"N\" for a in slab])\n",
    "    slab.set_constraint(constraint)\n",
    "    dyn = QuasiNewton(slab, trajectory=\"/tmp/N2Cu.traj\", logfile=\"/tmp/temp\")\n",
    "    dyn.run(fmax=0.01)\n",
    "    return slab\n"
   ]
  },
  {
   "cell_type": "code",
   "execution_count": null,
   "metadata": {},
   "outputs": [],
   "source": [
    "N2 = construct_n_molecule(d=1.2)\n",
    "slab = construct_cu_slab(unit_cell=(4, 4, 2), vacuum=10.0)\n",
    "add_adsorbate(slab, N2, 1.2, \"ontop\")\n",
    "\n",
    "config = ViewConfig(show_unit_cell=False)\n",
    "ase_view = AseView(config)\n",
    "ase_view.config.rotations = \"-90x,50y,0z\"\n",
    "config.atom_lighten_by_depth = 0.7\n",
    "ase_view.make_svg(\n",
    "    slab,\n",
    "    center_in_uc=True,\n",
    "    repeat_uc=(2, 2, 1),\n",
    ")\n"
   ]
  },
  {
   "cell_type": "code",
   "execution_count": null,
   "metadata": {},
   "outputs": [],
   "source": [
    "@ct.lattice\n",
    "def compute_energy(initial_height=3, distance=1.10):\n",
    "    N2 = construct_n_molecule(d=distance)\n",
    "    e_N2 = compute_system_energy(system=N2)\n",
    "\n",
    "    slab = construct_cu_slab(unit_cell=(4, 4, 2), vacuum=10.0)\n",
    "    e_slab = compute_system_energy(system=slab)\n",
    "\n",
    "    relaxed_slab = get_relaxed_slab(slab=slab, molecule=N2, height=initial_height)\n",
    "    e_relaxed_slab = compute_system_energy(system=relaxed_slab)\n",
    "    final_result = e_slab + e_N2 - e_relaxed_slab\n",
    "\n",
    "    return final_result\n"
   ]
  },
  {
   "cell_type": "code",
   "execution_count": null,
   "metadata": {},
   "outputs": [],
   "source": [
    "compute_energy.draw(initial_height=3, distance=1.10)\n"
   ]
  },
  {
   "cell_type": "code",
   "execution_count": null,
   "metadata": {},
   "outputs": [],
   "source": [
    "from IPython import display\n",
    "display.Image(\"graphs/compute_energy.png\")"
   ]
  },
  {
   "cell_type": "code",
   "execution_count": null,
   "metadata": {},
   "outputs": [],
   "source": [
    "dispatch_id = ct.dispatch(compute_energy)(initial_height=3, distance=1.10)\n"
   ]
  },
  {
   "cell_type": "code",
   "execution_count": null,
   "metadata": {},
   "outputs": [],
   "source": [
    "result = ct.get_result(dispatch_id=dispatch_id, wait=True)\n",
    "\n",
    "print(\n",
    "    f\"Computation status = {result.status}\\nEnergy of slab + nitrogen system = {result.result:.4f}\"\n",
    ")\n"
   ]
  },
  {
   "cell_type": "code",
   "execution_count": null,
   "metadata": {},
   "outputs": [],
   "source": [
    "import pprint\n",
    "\n",
    "pp = pprint.PrettyPrinter(indent=1)\n",
    "db = ct.get_data_store()\n",
    "\n",
    "pp.pprint(result.get_all_node_outputs())\n"
   ]
  },
  {
   "cell_type": "code",
   "execution_count": null,
   "metadata": {},
   "outputs": [],
   "source": [
    "pp.pprint(result.get_node_result(node_id=0))\n"
   ]
  },
  {
   "cell_type": "code",
   "execution_count": null,
   "metadata": {},
   "outputs": [],
   "source": [
    "import numpy as np\n",
    "\n",
    "optimize_height = ct.electron(compute_energy)\n",
    "\n",
    "\n",
    "@ct.lattice\n",
    "def vary_distance(distance):\n",
    "    result = []\n",
    "    for i in distance:\n",
    "        result.append(optimize_height(initial_height=3, distance=i))\n",
    "    return result\n"
   ]
  },
  {
   "cell_type": "code",
   "execution_count": null,
   "metadata": {},
   "outputs": [],
   "source": [
    "import numpy as np\n",
    "\n",
    "distance = np.linspace(1, 1.5, 3)\n",
    "\n",
    "vary_distance.draw(distance=np.round(distance, 2))\n"
   ]
  },
  {
   "cell_type": "code",
   "execution_count": null,
   "metadata": {},
   "outputs": [],
   "source": [
    "display.Image(\"graphs/vary_distance.png\")"
   ]
  },
  {
   "cell_type": "code",
   "execution_count": null,
   "metadata": {},
   "outputs": [],
   "source": [
    "seps = 7\n",
    "distance = np.linspace(1, 1.5, seps)\n",
    "dispatch_id = ct.dispatch(vary_distance)(distance=distance)\n"
   ]
  },
  {
   "cell_type": "code",
   "execution_count": null,
   "metadata": {},
   "outputs": [],
   "source": [
    "result = ct.get_result(dispatch_id, wait=True)\n",
    "print(result.status)\n"
   ]
  },
  {
   "cell_type": "code",
   "execution_count": null,
   "metadata": {},
   "outputs": [],
   "source": [
    "fig, ax = plt.subplots(1, 1, figsize=(6, 4), facecolor=\"w\")\n",
    "ax.plot(distance, result.result, marker=\"o\")\n",
    "ax.set_xlabel(\"Nitrogen molecule spacing\")\n",
    "ax.set_ylabel(\"Structural relaxation energy of Cu + ${N}_2$\")\n",
    "plt.tight_layout()\n",
    "plt.show()\n"
   ]
  },
  {
   "cell_type": "code",
   "execution_count": null,
   "metadata": {},
   "outputs": [],
   "source": []
  }
 ],
 "metadata": {
  "kernelspec": {
   "display_name": "Python 3.8.10 64-bit",
   "language": "python",
   "name": "python3"
  },
  "language_info": {
   "codemirror_mode": {
    "name": "ipython",
    "version": 3
   },
   "file_extension": ".py",
   "mimetype": "text/x-python",
   "name": "python",
   "nbconvert_exporter": "python",
   "pygments_lexer": "ipython3",
   "version": "3.8.10"
  },
  "orig_nbformat": 4,
  "vscode": {
   "interpreter": {
    "hash": "916dbcbb3f70747c44a77c7bcd40155683ae19c65e1c03b4aa3499c5328201f1"
   }
  }
 },
 "nbformat": 4,
 "nbformat_minor": 2
}
